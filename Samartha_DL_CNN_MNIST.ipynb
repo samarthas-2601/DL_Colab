{
  "nbformat": 4,
  "nbformat_minor": 0,
  "metadata": {
    "colab": {
      "name": "Samartha_DL_CNN_MNIST.ipynb",
      "provenance": [],
      "authorship_tag": "ABX9TyOiSlR5G12TGvGgVPvilBW1",
      "include_colab_link": true
    },
    "kernelspec": {
      "name": "python3",
      "display_name": "Python 3"
    },
    "language_info": {
      "name": "python"
    }
  },
  "cells": [
    {
      "cell_type": "markdown",
      "metadata": {
        "id": "view-in-github",
        "colab_type": "text"
      },
      "source": [
        "<a href=\"https://colab.research.google.com/github/samarthas-2601/DL_Colab/blob/main/Samartha_DL_CNN_MNIST.ipynb\" target=\"_parent\"><img src=\"https://colab.research.google.com/assets/colab-badge.svg\" alt=\"Open In Colab\"/></a>"
      ]
    },
    {
      "cell_type": "markdown",
      "source": [
        "### 9. Build a Convolutional neural network model using MNIST dataset."
      ],
      "metadata": {
        "id": "DNiT0AynwODF"
      }
    },
    {
      "cell_type": "code",
      "execution_count": null,
      "metadata": {
        "id": "nEH5O5MuoNtI"
      },
      "outputs": [],
      "source": [
        "import tensorflow\n",
        "from tensorflow import keras\n",
        "from keras import Sequential\n",
        "from keras import layers, datasets"
      ]
    },
    {
      "cell_type": "code",
      "source": [
        "(X_train, y_train),(X_test, y_test) = datasets.mnist.load_data()"
      ],
      "metadata": {
        "colab": {
          "base_uri": "https://localhost:8080/"
        },
        "id": "9WGphWBxohCR",
        "outputId": "e046fcaf-980f-4778-94c4-914d00a4d8bc"
      },
      "execution_count": null,
      "outputs": [
        {
          "output_type": "stream",
          "name": "stdout",
          "text": [
            "Downloading data from https://storage.googleapis.com/tensorflow/tf-keras-datasets/mnist.npz\n",
            "11493376/11490434 [==============================] - 0s 0us/step\n",
            "11501568/11490434 [==============================] - 0s 0us/step\n"
          ]
        }
      ]
    },
    {
      "cell_type": "code",
      "source": [
        "X_train = X_train/255.0\n",
        "X_test = X_test/255.0"
      ],
      "metadata": {
        "id": "VYlxbGJ6on0k"
      },
      "execution_count": null,
      "outputs": []
    },
    {
      "cell_type": "code",
      "source": [
        "model = Sequential()\n",
        "model.add(layers.Conv2D(32,(3,3),activation=\"relu\", input_shape = (28,28,3) ))\n",
        "model.add(layers.MaxPooling2D(2,2))\n",
        "model.add(layers.Conv2D(64,(3,3),activation=\"relu\"))\n",
        "model.add(layers.MaxPooling2D(2,2))\n",
        "model.add(layers.Conv2D(64,(3,3),activation=\"relu\"))"
      ],
      "metadata": {
        "id": "ifXQw0jYorqi"
      },
      "execution_count": null,
      "outputs": []
    },
    {
      "cell_type": "code",
      "source": [
        "model.add(layers.Flatten())\n",
        "model.add(layers.Dense(64,activation=\"relu\"))\n",
        "model.add(layers.Dense(10))"
      ],
      "metadata": {
        "id": "hUV6eSNDpJtF"
      },
      "execution_count": null,
      "outputs": []
    },
    {
      "cell_type": "code",
      "source": [
        "model.compile(loss=keras.losses.SparseCategoricalCrossentropy,optimizer = \"Adam\", metrics = [\"accuracy\"])"
      ],
      "metadata": {
        "id": "J4lmJiKapfZL"
      },
      "execution_count": null,
      "outputs": []
    },
    {
      "cell_type": "code",
      "source": [
        "history = model.fit(X_train, y_train, epochs = 5, validation_data=(X_test, y_test))"
      ],
      "metadata": {
        "id": "3J42LQSXp0Rf"
      },
      "execution_count": null,
      "outputs": []
    }
  ]
}