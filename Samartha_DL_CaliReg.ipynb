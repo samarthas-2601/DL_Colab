{
  "nbformat": 4,
  "nbformat_minor": 0,
  "metadata": {
    "colab": {
      "name": "Samartha_DL_CaliReg.ipynb",
      "provenance": [],
      "authorship_tag": "ABX9TyPQ+xDYfbP4WtHNvzp28sOu",
      "include_colab_link": true
    },
    "kernelspec": {
      "name": "python3",
      "display_name": "Python 3"
    },
    "language_info": {
      "name": "python"
    }
  },
  "cells": [
    {
      "cell_type": "markdown",
      "metadata": {
        "id": "view-in-github",
        "colab_type": "text"
      },
      "source": [
        "<a href=\"https://colab.research.google.com/github/samarthas-2601/DL_Colab/blob/main/Samartha_DL_CaliReg.ipynb\" target=\"_parent\"><img src=\"https://colab.research.google.com/assets/colab-badge.svg\" alt=\"Open In Colab\"/></a>"
      ]
    },
    {
      "cell_type": "markdown",
      "source": [
        "###3. Considering housing price California Census dataset build a Regression MLP using Sequential API.\n"
      ],
      "metadata": {
        "id": "sFXKiDHdr0cT"
      }
    },
    {
      "cell_type": "code",
      "execution_count": null,
      "metadata": {
        "id": "d_47f3szkYYj"
      },
      "outputs": [],
      "source": [
        "import tensorflow\n",
        "from tensorflow import keras\n",
        "from keras import Sequential\n",
        "from keras.layers import Dense"
      ]
    },
    {
      "cell_type": "code",
      "source": [
        "from sklearn.datasets import fetch_california_housing\n",
        "housing = fetch_california_housing()"
      ],
      "metadata": {
        "id": "oj8-H8vZko13"
      },
      "execution_count": null,
      "outputs": []
    },
    {
      "cell_type": "code",
      "source": [
        "from sklearn.model_selection import train_test_split\n",
        "X_train, X_test, y_train, y_test = train_test_split(housing.data, housing.target, test_size=0.2)"
      ],
      "metadata": {
        "id": "rHE7vEGrkyYt"
      },
      "execution_count": null,
      "outputs": []
    },
    {
      "cell_type": "code",
      "source": [
        "from sklearn.preprocessing import StandardScaler\n",
        "scaler = StandardScaler()\n",
        "X_train = scaler.fit_transform(X_train)\n",
        "X_test = scaler.transform(X_test)"
      ],
      "metadata": {
        "id": "kcldtc-rlEkh"
      },
      "execution_count": null,
      "outputs": []
    },
    {
      "cell_type": "code",
      "source": [
        "model = Sequential()\n",
        "model.add(Dense(30, activation=\"relu\"))\n",
        "model.add(Dense(30,activation=\"relu\"))\n",
        "model.add(Dense(1, activation=\"linear\"))"
      ],
      "metadata": {
        "id": "IKC81TXplRIF"
      },
      "execution_count": null,
      "outputs": []
    },
    {
      "cell_type": "code",
      "source": [
        "model.compile(optimizer = \"adam\", loss = \"mean_squared_error\")"
      ],
      "metadata": {
        "id": "k8-LQ4hhllZN"
      },
      "execution_count": null,
      "outputs": []
    },
    {
      "cell_type": "code",
      "source": [
        "history = model.fit(X_train, y_train, epochs = 20, validation_split = 0.2)"
      ],
      "metadata": {
        "colab": {
          "base_uri": "https://localhost:8080/"
        },
        "id": "LBk15ZrFlvZa",
        "outputId": "4b3d044f-749c-416c-fb19-384ba7e50f1e"
      },
      "execution_count": null,
      "outputs": [
        {
          "output_type": "stream",
          "name": "stdout",
          "text": [
            "Epoch 1/20\n",
            "413/413 [==============================] - 3s 5ms/step - loss: 1.1339 - val_loss: 0.4938\n",
            "Epoch 2/20\n",
            "413/413 [==============================] - 2s 4ms/step - loss: 0.4399 - val_loss: 0.4105\n",
            "Epoch 3/20\n",
            "413/413 [==============================] - 2s 4ms/step - loss: 0.3911 - val_loss: 0.3800\n",
            "Epoch 4/20\n",
            "413/413 [==============================] - 1s 3ms/step - loss: 0.3808 - val_loss: 0.3810\n",
            "Epoch 5/20\n",
            "413/413 [==============================] - 2s 4ms/step - loss: 0.3669 - val_loss: 0.3610\n",
            "Epoch 6/20\n",
            "413/413 [==============================] - 2s 4ms/step - loss: 0.3579 - val_loss: 0.3667\n",
            "Epoch 7/20\n",
            "413/413 [==============================] - 2s 4ms/step - loss: 0.3532 - val_loss: 0.3468\n",
            "Epoch 8/20\n",
            "413/413 [==============================] - 2s 4ms/step - loss: 0.3473 - val_loss: 0.3447\n",
            "Epoch 9/20\n",
            "413/413 [==============================] - 1s 3ms/step - loss: 0.3828 - val_loss: 0.3512\n",
            "Epoch 10/20\n",
            "413/413 [==============================] - 1s 3ms/step - loss: 0.3419 - val_loss: 0.3357\n",
            "Epoch 11/20\n",
            "413/413 [==============================] - 2s 4ms/step - loss: 0.3289 - val_loss: 0.3687\n",
            "Epoch 12/20\n",
            "413/413 [==============================] - 2s 4ms/step - loss: 0.3298 - val_loss: 0.3382\n",
            "Epoch 13/20\n",
            "413/413 [==============================] - 1s 4ms/step - loss: 0.3258 - val_loss: 0.3653\n",
            "Epoch 14/20\n",
            "413/413 [==============================] - 1s 4ms/step - loss: 0.3322 - val_loss: 0.3243\n",
            "Epoch 15/20\n",
            "413/413 [==============================] - 1s 3ms/step - loss: 0.3137 - val_loss: 0.3198\n",
            "Epoch 16/20\n",
            "413/413 [==============================] - 2s 4ms/step - loss: 0.3130 - val_loss: 0.3187\n",
            "Epoch 17/20\n",
            "413/413 [==============================] - 2s 4ms/step - loss: 0.3117 - val_loss: 0.3116\n",
            "Epoch 18/20\n",
            "413/413 [==============================] - 2s 4ms/step - loss: 0.3057 - val_loss: 0.3084\n",
            "Epoch 19/20\n",
            "413/413 [==============================] - 2s 4ms/step - loss: 0.3025 - val_loss: 0.3088\n",
            "Epoch 20/20\n",
            "413/413 [==============================] - 2s 4ms/step - loss: 0.3097 - val_loss: 0.3085\n"
          ]
        }
      ]
    },
    {
      "cell_type": "code",
      "source": [
        "y_pred = model.predict(X_test)\n",
        "y_p = y_pred.argmax(axis = 1)\n",
        "y_p"
      ],
      "metadata": {
        "colab": {
          "base_uri": "https://localhost:8080/"
        },
        "id": "jNPHC0Jfl3xa",
        "outputId": "f3d8a98f-0c74-443a-99c9-86f42148cf70"
      },
      "execution_count": null,
      "outputs": [
        {
          "output_type": "execute_result",
          "data": {
            "text/plain": [
              "array([0, 0, 0, ..., 0, 0, 0])"
            ]
          },
          "metadata": {},
          "execution_count": 8
        }
      ]
    },
    {
      "cell_type": "code",
      "source": [
        ""
      ],
      "metadata": {
        "id": "eJHS--pjmCxg"
      },
      "execution_count": null,
      "outputs": []
    }
  ]
}