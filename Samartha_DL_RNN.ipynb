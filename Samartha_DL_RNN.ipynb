{
  "nbformat": 4,
  "nbformat_minor": 0,
  "metadata": {
    "colab": {
      "name": "Samartha_DL_RNN.ipynb",
      "provenance": [],
      "authorship_tag": "ABX9TyOObqbcm7WztOWz/thMePrF",
      "include_colab_link": true
    },
    "kernelspec": {
      "name": "python3",
      "display_name": "Python 3"
    },
    "language_info": {
      "name": "python"
    }
  },
  "cells": [
    {
      "cell_type": "markdown",
      "metadata": {
        "id": "view-in-github",
        "colab_type": "text"
      },
      "source": [
        "<a href=\"https://colab.research.google.com/github/samarthas-2601/DL_Colab/blob/main/Samartha_DL_RNN.ipynb\" target=\"_parent\"><img src=\"https://colab.research.google.com/assets/colab-badge.svg\" alt=\"Open In Colab\"/></a>"
      ]
    },
    {
      "cell_type": "markdown",
      "source": [
        "### 11. Implement a Time Series model using Recurrent Neural Network by generating your own data.\n"
      ],
      "metadata": {
        "id": "RsnaIWGtwi8K"
      }
    },
    {
      "cell_type": "code",
      "execution_count": null,
      "metadata": {
        "id": "9XQdbxPUZXM9"
      },
      "outputs": [],
      "source": [
        "import tensorflow\n",
        "from tensorflow import keras\n",
        "import numpy as np\n"
      ]
    },
    {
      "cell_type": "code",
      "source": [
        "def gen_time_series(batch_size, n_steps):\n",
        "  freq1, freq2, offsets1, offsets2 = np.random.rand(4, batch_size, 1)\n",
        "  time = np.linspace(0,1,n_steps)\n",
        "  series = 0.5*np.sin((time - offsets1)*(freq1 * 10 +10))\n",
        "  series += 0.2*np.sin((time - offsets2)*(freq2 * 20 +20))\n",
        "  series += 0.1*(np.random.rand(batch_size,n_steps)-0.5)\n",
        "  return series[...,np.newaxis].astype(np.float32)"
      ],
      "metadata": {
        "id": "gqO4RU6QZhKy"
      },
      "execution_count": null,
      "outputs": []
    },
    {
      "cell_type": "code",
      "source": [
        "n_steps = 50\n",
        "series = gen_time_series(10000, n_steps +1)\n",
        "X_train, y_train = series[:7000, :n_steps], series[:7000,-1]\n",
        "X_valid, y_valid = series[7000:9000,:n_steps],series[7000:9000, -1]\n",
        "X_test, y_test = series[9000:, :n_steps], series[9000:,-1]"
      ],
      "metadata": {
        "id": "NS0rGo_Kac7r"
      },
      "execution_count": null,
      "outputs": []
    },
    {
      "cell_type": "code",
      "source": [
        "from keras import Sequential"
      ],
      "metadata": {
        "id": "VCJAxiylbMOC"
      },
      "execution_count": null,
      "outputs": []
    },
    {
      "cell_type": "code",
      "source": [
        "model = Sequential()"
      ],
      "metadata": {
        "id": "ANF22o4TbXyP"
      },
      "execution_count": null,
      "outputs": []
    },
    {
      "cell_type": "code",
      "source": [
        "model.add(keras.layers.SimpleRNN(1,input_shape=[None,1]))\n"
      ],
      "metadata": {
        "id": "nSyHDLvVbZYL"
      },
      "execution_count": null,
      "outputs": []
    },
    {
      "cell_type": "code",
      "source": [
        "model.compile(loss=\"mse\",optimizer=\"adam\")"
      ],
      "metadata": {
        "id": "YmnlGrOibksh"
      },
      "execution_count": null,
      "outputs": []
    },
    {
      "cell_type": "code",
      "source": [
        "history = model.fit(X_train, y_train, epochs = 20, validation_data = (X_valid, y_valid))"
      ],
      "metadata": {
        "colab": {
          "base_uri": "https://localhost:8080/"
        },
        "id": "Hj1Ta4kpbt7D",
        "outputId": "630889b1-f866-4f66-f62e-5cb7619c1603"
      },
      "execution_count": null,
      "outputs": [
        {
          "output_type": "stream",
          "name": "stdout",
          "text": [
            "Epoch 1/20\n",
            "219/219 [==============================] - 4s 13ms/step - loss: 0.0352 - val_loss: 0.0261\n",
            "Epoch 2/20\n",
            "219/219 [==============================] - 2s 11ms/step - loss: 0.0216 - val_loss: 0.0168\n",
            "Epoch 3/20\n",
            "219/219 [==============================] - 2s 10ms/step - loss: 0.0148 - val_loss: 0.0127\n",
            "Epoch 4/20\n",
            "219/219 [==============================] - 2s 11ms/step - loss: 0.0122 - val_loss: 0.0115\n",
            "Epoch 5/20\n",
            "219/219 [==============================] - 2s 11ms/step - loss: 0.0116 - val_loss: 0.0113\n",
            "Epoch 6/20\n",
            "219/219 [==============================] - 2s 10ms/step - loss: 0.0114 - val_loss: 0.0113\n",
            "Epoch 7/20\n",
            "219/219 [==============================] - 2s 10ms/step - loss: 0.0114 - val_loss: 0.0113\n",
            "Epoch 8/20\n",
            "219/219 [==============================] - 2s 10ms/step - loss: 0.0114 - val_loss: 0.0113\n",
            "Epoch 9/20\n",
            "219/219 [==============================] - 2s 10ms/step - loss: 0.0114 - val_loss: 0.0113\n",
            "Epoch 10/20\n",
            "219/219 [==============================] - 2s 11ms/step - loss: 0.0114 - val_loss: 0.0113\n",
            "Epoch 11/20\n",
            "219/219 [==============================] - 2s 10ms/step - loss: 0.0114 - val_loss: 0.0113\n",
            "Epoch 12/20\n",
            "219/219 [==============================] - 2s 10ms/step - loss: 0.0114 - val_loss: 0.0113\n",
            "Epoch 13/20\n",
            "219/219 [==============================] - 2s 10ms/step - loss: 0.0114 - val_loss: 0.0113\n",
            "Epoch 14/20\n",
            "219/219 [==============================] - 2s 11ms/step - loss: 0.0114 - val_loss: 0.0113\n",
            "Epoch 15/20\n",
            "219/219 [==============================] - 2s 11ms/step - loss: 0.0114 - val_loss: 0.0113\n",
            "Epoch 16/20\n",
            "219/219 [==============================] - 2s 9ms/step - loss: 0.0114 - val_loss: 0.0112\n",
            "Epoch 17/20\n",
            "219/219 [==============================] - 2s 10ms/step - loss: 0.0114 - val_loss: 0.0113\n",
            "Epoch 18/20\n",
            "219/219 [==============================] - 2s 10ms/step - loss: 0.0114 - val_loss: 0.0113\n",
            "Epoch 19/20\n",
            "219/219 [==============================] - 2s 10ms/step - loss: 0.0114 - val_loss: 0.0113\n",
            "Epoch 20/20\n",
            "219/219 [==============================] - 2s 10ms/step - loss: 0.0114 - val_loss: 0.0113\n"
          ]
        }
      ]
    },
    {
      "cell_type": "code",
      "source": [
        "model.evaluate(X_valid,y_valid)"
      ],
      "metadata": {
        "colab": {
          "base_uri": "https://localhost:8080/"
        },
        "id": "7wQrWrHTb4yQ",
        "outputId": "7987333b-b286-4cbc-d977-0a4c622f908c"
      },
      "execution_count": null,
      "outputs": [
        {
          "output_type": "stream",
          "name": "stdout",
          "text": [
            "63/63 [==============================] - 1s 9ms/step - loss: 0.0113\n"
          ]
        },
        {
          "output_type": "execute_result",
          "data": {
            "text/plain": [
              "0.01125550176948309"
            ]
          },
          "metadata": {},
          "execution_count": 10
        }
      ]
    },
    {
      "cell_type": "code",
      "source": [
        ""
      ],
      "metadata": {
        "id": "WGH1WAurcRu5"
      },
      "execution_count": null,
      "outputs": []
    }
  ]
}