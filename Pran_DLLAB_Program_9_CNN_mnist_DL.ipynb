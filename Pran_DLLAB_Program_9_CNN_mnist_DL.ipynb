{
  "nbformat": 4,
  "nbformat_minor": 0,
  "metadata": {
    "colab": {
      "name": "DLLAB_Program_9_CNN_mnist_DL.ipynb",
      "provenance": [],
      "collapsed_sections": [],
      "include_colab_link": true
    },
    "kernelspec": {
      "name": "python3",
      "display_name": "Python 3"
    },
    "language_info": {
      "name": "python"
    }
  },
  "cells": [
    {
      "cell_type": "markdown",
      "metadata": {
        "id": "view-in-github",
        "colab_type": "text"
      },
      "source": [
        "<a href=\"https://colab.research.google.com/github/samarthas-2601/DL_Colab/blob/main/Pran_DLLAB_Program_9_CNN_mnist_DL.ipynb\" target=\"_parent\"><img src=\"https://colab.research.google.com/assets/colab-badge.svg\" alt=\"Open In Colab\"/></a>"
      ]
    },
    {
      "cell_type": "code",
      "execution_count": null,
      "metadata": {
        "id": "pDnaEJJp2-pb"
      },
      "outputs": [],
      "source": [
        "import tensorflow as tf\n",
        "from keras.models import Sequential \n",
        "from keras.layers import Dense,Dropout,Conv2D,MaxPool1D,Flatten\n",
        "from keras.utils import np_utils\n",
        "import seaborn as sns\n",
        "import matplotlib.pyplot as plt\n",
        "import numpy as np"
      ]
    },
    {
      "cell_type": "code",
      "source": [
        "from keras.datasets import mnist\n",
        "(X_train,y_train),(X_test,y_test)=mnist.load_data()\n"
      ],
      "metadata": {
        "id": "yfeB5bW83VM8"
      },
      "execution_count": null,
      "outputs": []
    },
    {
      "cell_type": "code",
      "source": [
        "X_train.shape"
      ],
      "metadata": {
        "colab": {
          "base_uri": "https://localhost:8080/"
        },
        "id": "nbZaiJ664Bxu",
        "outputId": "5fac361d-fa69-4d58-f80d-e33a9d83742f"
      },
      "execution_count": null,
      "outputs": [
        {
          "output_type": "execute_result",
          "data": {
            "text/plain": [
              "(60000, 28, 28)"
            ]
          },
          "metadata": {},
          "execution_count": 75
        }
      ]
    },
    {
      "cell_type": "code",
      "source": [
        "from numpy import float32\n",
        "X_train.reshape(X_train.shape[0],28,28,1)\n",
        "X_test.reshape(X_test.shape[0],28,28,1)\n",
        "X_train=X_train.astype('float64')\n",
        "X_test=X_test.astype('float64')"
      ],
      "metadata": {
        "id": "4FXPIgwd4Bu7"
      },
      "execution_count": null,
      "outputs": []
    },
    {
      "cell_type": "code",
      "source": [
        "X_train/=255\n",
        "X_test/=255"
      ],
      "metadata": {
        "id": "aY4UFTcH4K1J"
      },
      "execution_count": null,
      "outputs": []
    },
    {
      "cell_type": "code",
      "source": [
        "model=Sequential()"
      ],
      "metadata": {
        "id": "GFW5qQmQ4Kvq"
      },
      "execution_count": null,
      "outputs": []
    },
    {
      "cell_type": "code",
      "source": [
        "from keras.engine import input_spec\n",
        "from keras.backend import conv2d\n",
        "model.add(Conv2D(25,kernel_size=(3,3),strides=(1,1),padding='valid',activation='relu',input_shape=(28,28,1)))"
      ],
      "metadata": {
        "id": "hoT3qFY74Ktj"
      },
      "execution_count": null,
      "outputs": []
    },
    {
      "cell_type": "code",
      "source": [
        "from keras.layers.pooling import MaxPool2D\n",
        "model.add(MaxPool2D(pool_size=(1,1)))"
      ],
      "metadata": {
        "id": "HjzYP-d977-t"
      },
      "execution_count": null,
      "outputs": []
    },
    {
      "cell_type": "code",
      "source": [
        "model.add(Flatten())"
      ],
      "metadata": {
        "id": "p0twBaM592DS"
      },
      "execution_count": null,
      "outputs": []
    },
    {
      "cell_type": "code",
      "source": [
        "model.add(Dense(100,activation='relu'))"
      ],
      "metadata": {
        "id": "KBvrJ6-T92Aa"
      },
      "execution_count": null,
      "outputs": []
    },
    {
      "cell_type": "code",
      "source": [
        "model.add(Dense(100,activation='softmax'))"
      ],
      "metadata": {
        "id": "9qyG52po772x"
      },
      "execution_count": null,
      "outputs": []
    },
    {
      "cell_type": "code",
      "source": [
        "model.compile(loss=tf.keras.losses.SparseCategoricalCrossentropy(from_logits=True),metrics=['accuracy'],optimizer='adam')"
      ],
      "metadata": {
        "id": "Wv4D7ulw7GIb"
      },
      "execution_count": null,
      "outputs": []
    },
    {
      "cell_type": "code",
      "source": [
        "model.fit(X_train,y_train,batch_size=128,epochs=10,validation_data=(X_test,y_test))"
      ],
      "metadata": {
        "colab": {
          "base_uri": "https://localhost:8080/"
        },
        "id": "he4OPiSg7GFh",
        "outputId": "70d83e8f-b7ab-47ff-a141-da3f901aa527"
      },
      "execution_count": null,
      "outputs": [
        {
          "output_type": "stream",
          "name": "stdout",
          "text": [
            "Epoch 1/10\n"
          ]
        },
        {
          "output_type": "stream",
          "name": "stderr",
          "text": [
            "/usr/local/lib/python3.7/dist-packages/tensorflow/python/util/dispatch.py:1082: UserWarning: \"`sparse_categorical_crossentropy` received `from_logits=True`, but the `output` argument was produced by a sigmoid or softmax activation and thus does not represent logits. Was this intended?\"\n",
            "  return dispatch_target(*args, **kwargs)\n"
          ]
        },
        {
          "output_type": "stream",
          "name": "stdout",
          "text": [
            "469/469 [==============================] - 39s 83ms/step - loss: 0.2574 - accuracy: 0.9277 - val_loss: 0.0964 - val_accuracy: 0.9736\n",
            "Epoch 2/10\n",
            "469/469 [==============================] - 40s 86ms/step - loss: 0.0754 - accuracy: 0.9778 - val_loss: 0.0657 - val_accuracy: 0.9801\n",
            "Epoch 3/10\n",
            "469/469 [==============================] - 39s 83ms/step - loss: 0.0464 - accuracy: 0.9855 - val_loss: 0.0565 - val_accuracy: 0.9813\n",
            "Epoch 4/10\n",
            "469/469 [==============================] - 39s 82ms/step - loss: 0.0314 - accuracy: 0.9904 - val_loss: 0.0558 - val_accuracy: 0.9822\n",
            "Epoch 5/10\n",
            "469/469 [==============================] - 39s 83ms/step - loss: 0.0222 - accuracy: 0.9934 - val_loss: 0.0564 - val_accuracy: 0.9824\n",
            "Epoch 6/10\n",
            "469/469 [==============================] - 40s 84ms/step - loss: 0.0155 - accuracy: 0.9956 - val_loss: 0.0637 - val_accuracy: 0.9805\n",
            "Epoch 7/10\n",
            "469/469 [==============================] - 38s 82ms/step - loss: 0.0121 - accuracy: 0.9964 - val_loss: 0.0586 - val_accuracy: 0.9827\n",
            "Epoch 8/10\n",
            "469/469 [==============================] - 38s 82ms/step - loss: 0.0076 - accuracy: 0.9981 - val_loss: 0.0554 - val_accuracy: 0.9850\n",
            "Epoch 9/10\n",
            "469/469 [==============================] - 38s 82ms/step - loss: 0.0062 - accuracy: 0.9983 - val_loss: 0.0593 - val_accuracy: 0.9851\n",
            "Epoch 10/10\n",
            "469/469 [==============================] - 39s 82ms/step - loss: 0.0048 - accuracy: 0.9988 - val_loss: 0.0672 - val_accuracy: 0.9842\n"
          ]
        },
        {
          "output_type": "execute_result",
          "data": {
            "text/plain": [
              "<keras.callbacks.History at 0x7fa333538bd0>"
            ]
          },
          "metadata": {},
          "execution_count": 85
        }
      ]
    },
    {
      "cell_type": "code",
      "source": [
        "model.evaluate(X_test,y_test)"
      ],
      "metadata": {
        "colab": {
          "base_uri": "https://localhost:8080/"
        },
        "id": "ApJbCyJI7GDR",
        "outputId": "8310d621-efbc-458e-d40c-2dea8be1df89"
      },
      "execution_count": null,
      "outputs": [
        {
          "output_type": "stream",
          "name": "stdout",
          "text": [
            "313/313 [==============================] - 2s 8ms/step - loss: 0.0672 - accuracy: 0.9842\n"
          ]
        },
        {
          "output_type": "execute_result",
          "data": {
            "text/plain": [
              "[0.06723015755414963, 0.9842000007629395]"
            ]
          },
          "metadata": {},
          "execution_count": 86
        }
      ]
    },
    {
      "cell_type": "code",
      "source": [
        "X_new=X_test[:3]\n",
        "y_proba=model.predict(X_new)\n",
        "y_proba.round(2)"
      ],
      "metadata": {
        "colab": {
          "base_uri": "https://localhost:8080/"
        },
        "id": "ZsLadWL97GAh",
        "outputId": "eab8e95e-a34a-49c2-f2e6-328783265d9b"
      },
      "execution_count": null,
      "outputs": [
        {
          "output_type": "execute_result",
          "data": {
            "text/plain": [
              "array([[0., 0., 0., 0., 0., 0., 0., 1., 0., 0., 0., 0., 0., 0., 0., 0.,\n",
              "        0., 0., 0., 0., 0., 0., 0., 0., 0., 0., 0., 0., 0., 0., 0., 0.,\n",
              "        0., 0., 0., 0., 0., 0., 0., 0., 0., 0., 0., 0., 0., 0., 0., 0.,\n",
              "        0., 0., 0., 0., 0., 0., 0., 0., 0., 0., 0., 0., 0., 0., 0., 0.,\n",
              "        0., 0., 0., 0., 0., 0., 0., 0., 0., 0., 0., 0., 0., 0., 0., 0.,\n",
              "        0., 0., 0., 0., 0., 0., 0., 0., 0., 0., 0., 0., 0., 0., 0., 0.,\n",
              "        0., 0., 0., 0.],\n",
              "       [0., 0., 1., 0., 0., 0., 0., 0., 0., 0., 0., 0., 0., 0., 0., 0.,\n",
              "        0., 0., 0., 0., 0., 0., 0., 0., 0., 0., 0., 0., 0., 0., 0., 0.,\n",
              "        0., 0., 0., 0., 0., 0., 0., 0., 0., 0., 0., 0., 0., 0., 0., 0.,\n",
              "        0., 0., 0., 0., 0., 0., 0., 0., 0., 0., 0., 0., 0., 0., 0., 0.,\n",
              "        0., 0., 0., 0., 0., 0., 0., 0., 0., 0., 0., 0., 0., 0., 0., 0.,\n",
              "        0., 0., 0., 0., 0., 0., 0., 0., 0., 0., 0., 0., 0., 0., 0., 0.,\n",
              "        0., 0., 0., 0.],\n",
              "       [0., 1., 0., 0., 0., 0., 0., 0., 0., 0., 0., 0., 0., 0., 0., 0.,\n",
              "        0., 0., 0., 0., 0., 0., 0., 0., 0., 0., 0., 0., 0., 0., 0., 0.,\n",
              "        0., 0., 0., 0., 0., 0., 0., 0., 0., 0., 0., 0., 0., 0., 0., 0.,\n",
              "        0., 0., 0., 0., 0., 0., 0., 0., 0., 0., 0., 0., 0., 0., 0., 0.,\n",
              "        0., 0., 0., 0., 0., 0., 0., 0., 0., 0., 0., 0., 0., 0., 0., 0.,\n",
              "        0., 0., 0., 0., 0., 0., 0., 0., 0., 0., 0., 0., 0., 0., 0., 0.,\n",
              "        0., 0., 0., 0.]], dtype=float32)"
            ]
          },
          "metadata": {},
          "execution_count": 87
        }
      ]
    },
    {
      "cell_type": "code",
      "source": [
        "classes=np.argmax(y_proba,axis=1)\n",
        "print(\"Predicted Classes: \",classes)\n",
        "print(\"Actual Classes: \",y_test[:3])"
      ],
      "metadata": {
        "colab": {
          "base_uri": "https://localhost:8080/"
        },
        "id": "ap759Gho7F94",
        "outputId": "87c91922-296e-451a-bb5b-1079a347e035"
      },
      "execution_count": null,
      "outputs": [
        {
          "output_type": "stream",
          "name": "stdout",
          "text": [
            "Predicted Classes:  [7 2 1]\n",
            "Actual Classes:  [7 2 1]\n"
          ]
        }
      ]
    }
  ]
}