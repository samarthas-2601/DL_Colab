{
  "nbformat": 4,
  "nbformat_minor": 0,
  "metadata": {
    "colab": {
      "name": "Samartha_DL_CNN_Cifar.ipynb",
      "provenance": [],
      "collapsed_sections": [],
      "authorship_tag": "ABX9TyMKcgkGvtap0rP70f1VcOA8",
      "include_colab_link": true
    },
    "kernelspec": {
      "name": "python3",
      "display_name": "Python 3"
    },
    "language_info": {
      "name": "python"
    }
  },
  "cells": [
    {
      "cell_type": "markdown",
      "metadata": {
        "id": "view-in-github",
        "colab_type": "text"
      },
      "source": [
        "<a href=\"https://colab.research.google.com/github/samarthas-2601/DL_Colab/blob/main/Samartha_DL_CNN_Cifar.ipynb\" target=\"_parent\"><img src=\"https://colab.research.google.com/assets/colab-badge.svg\" alt=\"Open In Colab\"/></a>"
      ]
    },
    {
      "cell_type": "markdown",
      "source": [
        "### 10. Build a Convolutional neural network model using CIFAR dataset."
      ],
      "metadata": {
        "id": "jBrvXRhfwWtw"
      }
    },
    {
      "cell_type": "code",
      "execution_count": null,
      "metadata": {
        "id": "pe6vaLtc7emx"
      },
      "outputs": [],
      "source": [
        "import tensorflow \n",
        "from tensorflow import keras\n",
        "from keras import datasets, layers, models"
      ]
    },
    {
      "cell_type": "code",
      "source": [
        "(train_images, train_labels),(test_images,test_labels) = datasets.cifar10.load_data()"
      ],
      "metadata": {
        "colab": {
          "base_uri": "https://localhost:8080/"
        },
        "id": "KDRyLzwp71C9",
        "outputId": "5bb86f4a-2791-43d5-cc01-bb6d28969da5"
      },
      "execution_count": null,
      "outputs": [
        {
          "output_type": "stream",
          "name": "stdout",
          "text": [
            "Downloading data from https://www.cs.toronto.edu/~kriz/cifar-10-python.tar.gz\n",
            "170500096/170498071 [==============================] - 2s 0us/step\n",
            "170508288/170498071 [==============================] - 2s 0us/step\n"
          ]
        }
      ]
    },
    {
      "cell_type": "code",
      "source": [
        "train_images = train_images/255.0\n",
        "test_images = test_images/255.0"
      ],
      "metadata": {
        "id": "-g6qbHuF8AWJ"
      },
      "execution_count": null,
      "outputs": []
    },
    {
      "cell_type": "code",
      "source": [
        "from keras import Sequential\n",
        "model = Sequential()"
      ],
      "metadata": {
        "id": "tu6wnoiu8G_I"
      },
      "execution_count": null,
      "outputs": []
    },
    {
      "cell_type": "code",
      "source": [
        "model.add(layers.Conv2D(32,(3,3),activation=\"relu\",input_shape=(32,32,3)))\n",
        "model.add(layers.MaxPooling2D((2,2)))\n",
        "model.add(layers.Conv2D(64,(3,3),activation=\"relu\"))\n",
        "model.add(layers.MaxPooling2D((2,2)))\n",
        "model.add(layers.Conv2D(64,(3,3),activation=\"relu\"))"
      ],
      "metadata": {
        "id": "JFTaLSOM8Un5"
      },
      "execution_count": null,
      "outputs": []
    },
    {
      "cell_type": "code",
      "source": [
        "model.add(layers.Flatten())\n",
        "model.add(layers.Dense(64,activation=\"relu\"))\n",
        "model.add(layers.Dense(10))"
      ],
      "metadata": {
        "id": "QrWAhNYs8qjT"
      },
      "execution_count": null,
      "outputs": []
    },
    {
      "cell_type": "code",
      "source": [
        "model.compile(optimizer=\"adam\",loss=tensorflow.keras.losses.SparseCategoricalCrossentropy(from_logits=True),metrics=[\"accuracy\"])"
      ],
      "metadata": {
        "id": "T_PBakxM9dSJ"
      },
      "execution_count": null,
      "outputs": []
    },
    {
      "cell_type": "code",
      "source": [
        "history = model.fit(train_images,train_labels,epochs=10,validation_data = (test_images,test_labels))"
      ],
      "metadata": {
        "colab": {
          "base_uri": "https://localhost:8080/"
        },
        "id": "8KPQ6p2x9tj8",
        "outputId": "acd179ef-74ca-4b9f-cc1c-58b9027a55b8"
      },
      "execution_count": null,
      "outputs": [
        {
          "output_type": "stream",
          "name": "stdout",
          "text": [
            "Epoch 1/10\n",
            "1563/1563 [==============================] - 163s 103ms/step - loss: 1.5063 - accuracy: 0.4498 - val_loss: 1.2003 - val_accuracy: 0.5733\n",
            "Epoch 2/10\n",
            "1563/1563 [==============================] - 154s 99ms/step - loss: 1.1036 - accuracy: 0.6070 - val_loss: 1.0069 - val_accuracy: 0.6461\n",
            "Epoch 3/10\n",
            "1563/1563 [==============================] - 152s 97ms/step - loss: 0.9315 - accuracy: 0.6706 - val_loss: 0.9126 - val_accuracy: 0.6809\n",
            "Epoch 4/10\n",
            "1563/1563 [==============================] - 150s 96ms/step - loss: 0.8213 - accuracy: 0.7132 - val_loss: 0.8648 - val_accuracy: 0.7001\n",
            "Epoch 5/10\n",
            "1563/1563 [==============================] - 148s 94ms/step - loss: 0.7564 - accuracy: 0.7365 - val_loss: 0.8117 - val_accuracy: 0.7181\n",
            "Epoch 6/10\n",
            "1563/1563 [==============================] - 146s 94ms/step - loss: 0.6984 - accuracy: 0.7547 - val_loss: 0.8568 - val_accuracy: 0.7090\n",
            "Epoch 7/10\n",
            "1563/1563 [==============================] - 148s 94ms/step - loss: 0.6490 - accuracy: 0.7731 - val_loss: 0.7960 - val_accuracy: 0.7225\n",
            "Epoch 8/10\n",
            "1563/1563 [==============================] - 152s 97ms/step - loss: 0.6060 - accuracy: 0.7872 - val_loss: 0.8018 - val_accuracy: 0.7301\n",
            "Epoch 9/10\n",
            "1563/1563 [==============================] - 152s 97ms/step - loss: 0.5664 - accuracy: 0.8010 - val_loss: 0.8277 - val_accuracy: 0.7258\n",
            "Epoch 10/10\n",
            "1563/1563 [==============================] - 148s 95ms/step - loss: 0.5269 - accuracy: 0.8132 - val_loss: 0.8533 - val_accuracy: 0.7207\n"
          ]
        }
      ]
    },
    {
      "cell_type": "code",
      "source": [
        "test_loss, test_acc = model.evaluate(test_images, test_labels, verbose = 2)"
      ],
      "metadata": {
        "colab": {
          "base_uri": "https://localhost:8080/"
        },
        "id": "ipj0MZ95-Lj5",
        "outputId": "81be8595-b793-40e3-b978-ac7b760850b5"
      },
      "execution_count": null,
      "outputs": [
        {
          "output_type": "stream",
          "name": "stdout",
          "text": [
            "313/313 - 7s - loss: 0.8533 - accuracy: 0.7207 - 7s/epoch - 21ms/step\n"
          ]
        }
      ]
    },
    {
      "cell_type": "code",
      "source": [
        "test_acc"
      ],
      "metadata": {
        "colab": {
          "base_uri": "https://localhost:8080/"
        },
        "id": "bceP7_FlGWAD",
        "outputId": "76d431e2-7be7-464b-b9d2-b88e3e51ee8e"
      },
      "execution_count": null,
      "outputs": [
        {
          "output_type": "execute_result",
          "data": {
            "text/plain": [
              "0.7207000255584717"
            ]
          },
          "metadata": {},
          "execution_count": 15
        }
      ]
    },
    {
      "cell_type": "code",
      "source": [
        ""
      ],
      "metadata": {
        "id": "T5TtIDzjGZMb"
      },
      "execution_count": null,
      "outputs": []
    }
  ]
}